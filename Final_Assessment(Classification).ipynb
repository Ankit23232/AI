{
  "nbformat": 4,
  "nbformat_minor": 0,
  "metadata": {
    "colab": {
      "provenance": [],
      "mount_file_id": "1g6p-iHZSMsn6rIU9UpU-FLf0gI72z27B",
      "authorship_tag": "ABX9TyPNn4Ej+ZjOkfV1BbHtzFKL",
      "include_colab_link": true
    },
    "kernelspec": {
      "name": "python3",
      "display_name": "Python 3"
    },
    "language_info": {
      "name": "python"
    }
  },
  "cells": [
    {
      "cell_type": "markdown",
      "metadata": {
        "id": "view-in-github",
        "colab_type": "text"
      },
      "source": [
        "<a href=\"https://colab.research.google.com/github/Ankit23232/AI/blob/main/Final_Assessment(Classification).ipynb\" target=\"_parent\"><img src=\"https://colab.research.google.com/assets/colab-badge.svg\" alt=\"Open In Colab\"/></a>"
      ]
    },
    {
      "cell_type": "code",
      "execution_count": 1,
      "metadata": {
        "colab": {
          "base_uri": "https://localhost:8080/"
        },
        "id": "hBN3-5yhYpL7",
        "outputId": "9cc2a11e-249c-4ad8-b969-c37bb17ec151"
      },
      "outputs": [
        {
          "output_type": "stream",
          "name": "stdout",
          "text": [
            "Drive already mounted at /content/drive; to attempt to forcibly remount, call drive.mount(\"/content/drive\", force_remount=True).\n"
          ]
        }
      ],
      "source": [
        "from google.colab import drive\n",
        "drive.mount('/content/drive')"
      ]
    },
    {
      "cell_type": "code",
      "source": [
        "import numpy as np\n",
        "import pandas as pd\n",
        "import matplotlib.pyplot as plt\n",
        "import seaborn as sns\n",
        "from sklearn.model_selection import train_test_split, GridSearchCV\n",
        "from sklearn.linear_model import LogisticRegression\n",
        "from sklearn.metrics import accuracy_score,classification_report, confusion_matrix\n",
        "from sklearn.preprocessing import StandardScaler\n",
        "from sklearn.ensemble import RandomForestClassifier"
      ],
      "metadata": {
        "id": "fbd9H2QvYwNx"
      },
      "execution_count": 2,
      "outputs": []
    },
    {
      "cell_type": "code",
      "source": [
        "df = pd.read_csv('/content/drive/MyDrive/Breast_Cancer.csv')\n",
        "print(df.head)"
      ],
      "metadata": {
        "colab": {
          "base_uri": "https://localhost:8080/"
        },
        "id": "mxMa3LWQZJTM",
        "outputId": "f9edac74-b887-4518-aba6-3a2af4d494c2"
      },
      "execution_count": 3,
      "outputs": [
        {
          "output_type": "stream",
          "name": "stdout",
          "text": [
            "<bound method NDFrame.head of       Age   Race Marital Status T Stage  N Stage 6th Stage  \\\n",
            "0      68  White        Married       T1      N1       IIA   \n",
            "1      50  White        Married       T2      N2      IIIA   \n",
            "2      58  White       Divorced       T3      N3      IIIC   \n",
            "3      58  White        Married       T1      N1       IIA   \n",
            "4      47  White        Married       T2      N1       IIB   \n",
            "...   ...    ...            ...      ...     ...       ...   \n",
            "4019   62  Other        Married       T1      N1       IIA   \n",
            "4020   56  White       Divorced       T2      N2      IIIA   \n",
            "4021   68  White        Married       T2      N1       IIB   \n",
            "4022   58  Black       Divorced       T2      N1       IIB   \n",
            "4023   46  White        Married       T2      N1       IIB   \n",
            "\n",
            "                  differentiate Grade   A Stage  Tumor Size Estrogen Status  \\\n",
            "0         Poorly differentiated     3  Regional           4        Positive   \n",
            "1     Moderately differentiated     2  Regional          35        Positive   \n",
            "2     Moderately differentiated     2  Regional          63        Positive   \n",
            "3         Poorly differentiated     3  Regional          18        Positive   \n",
            "4         Poorly differentiated     3  Regional          41        Positive   \n",
            "...                         ...   ...       ...         ...             ...   \n",
            "4019  Moderately differentiated     2  Regional           9        Positive   \n",
            "4020  Moderately differentiated     2  Regional          46        Positive   \n",
            "4021  Moderately differentiated     2  Regional          22        Positive   \n",
            "4022  Moderately differentiated     2  Regional          44        Positive   \n",
            "4023  Moderately differentiated     2  Regional          30        Positive   \n",
            "\n",
            "     Progesterone Status  Regional Node Examined  Reginol Node Positive  \\\n",
            "0               Positive                      24                      1   \n",
            "1               Positive                      14                      5   \n",
            "2               Positive                      14                      7   \n",
            "3               Positive                       2                      1   \n",
            "4               Positive                       3                      1   \n",
            "...                  ...                     ...                    ...   \n",
            "4019            Positive                       1                      1   \n",
            "4020            Positive                      14                      8   \n",
            "4021            Negative                      11                      3   \n",
            "4022            Positive                      11                      1   \n",
            "4023            Positive                       7                      2   \n",
            "\n",
            "      Survival Months Status  \n",
            "0                  60  Alive  \n",
            "1                  62  Alive  \n",
            "2                  75  Alive  \n",
            "3                  84  Alive  \n",
            "4                  50  Alive  \n",
            "...               ...    ...  \n",
            "4019               49  Alive  \n",
            "4020               69  Alive  \n",
            "4021               69  Alive  \n",
            "4022               72  Alive  \n",
            "4023              100  Alive  \n",
            "\n",
            "[4024 rows x 16 columns]>\n"
          ]
        }
      ]
    },
    {
      "cell_type": "markdown",
      "source": [
        "3. Exploratoty Data Analiyis(EDA)"
      ],
      "metadata": {
        "id": "VpcOLnPtaEra"
      }
    },
    {
      "cell_type": "code",
      "source": [
        "#Summary statistics\n",
        "print(\"\\nDataset Values:\")\n",
        "print(df.describe)\n",
        "\n",
        "print('\\n Missing values')\n",
        "print(df.isnull().sum())\n",
        "\n",
        "sns.countplot(x='Status', data=df)\n",
        "plt.title('Class Distribution')\n",
        "plt.show()"
      ],
      "metadata": {
        "colab": {
          "base_uri": "https://localhost:8080/",
          "height": 1000
        },
        "id": "cEHw0IgiZTkR",
        "outputId": "6378877a-5452-46bd-87f4-7d844e0afe2c"
      },
      "execution_count": 4,
      "outputs": [
        {
          "output_type": "stream",
          "name": "stdout",
          "text": [
            "\n",
            "Dataset Values:\n",
            "<bound method NDFrame.describe of       Age   Race Marital Status T Stage  N Stage 6th Stage  \\\n",
            "0      68  White        Married       T1      N1       IIA   \n",
            "1      50  White        Married       T2      N2      IIIA   \n",
            "2      58  White       Divorced       T3      N3      IIIC   \n",
            "3      58  White        Married       T1      N1       IIA   \n",
            "4      47  White        Married       T2      N1       IIB   \n",
            "...   ...    ...            ...      ...     ...       ...   \n",
            "4019   62  Other        Married       T1      N1       IIA   \n",
            "4020   56  White       Divorced       T2      N2      IIIA   \n",
            "4021   68  White        Married       T2      N1       IIB   \n",
            "4022   58  Black       Divorced       T2      N1       IIB   \n",
            "4023   46  White        Married       T2      N1       IIB   \n",
            "\n",
            "                  differentiate Grade   A Stage  Tumor Size Estrogen Status  \\\n",
            "0         Poorly differentiated     3  Regional           4        Positive   \n",
            "1     Moderately differentiated     2  Regional          35        Positive   \n",
            "2     Moderately differentiated     2  Regional          63        Positive   \n",
            "3         Poorly differentiated     3  Regional          18        Positive   \n",
            "4         Poorly differentiated     3  Regional          41        Positive   \n",
            "...                         ...   ...       ...         ...             ...   \n",
            "4019  Moderately differentiated     2  Regional           9        Positive   \n",
            "4020  Moderately differentiated     2  Regional          46        Positive   \n",
            "4021  Moderately differentiated     2  Regional          22        Positive   \n",
            "4022  Moderately differentiated     2  Regional          44        Positive   \n",
            "4023  Moderately differentiated     2  Regional          30        Positive   \n",
            "\n",
            "     Progesterone Status  Regional Node Examined  Reginol Node Positive  \\\n",
            "0               Positive                      24                      1   \n",
            "1               Positive                      14                      5   \n",
            "2               Positive                      14                      7   \n",
            "3               Positive                       2                      1   \n",
            "4               Positive                       3                      1   \n",
            "...                  ...                     ...                    ...   \n",
            "4019            Positive                       1                      1   \n",
            "4020            Positive                      14                      8   \n",
            "4021            Negative                      11                      3   \n",
            "4022            Positive                      11                      1   \n",
            "4023            Positive                       7                      2   \n",
            "\n",
            "      Survival Months Status  \n",
            "0                  60  Alive  \n",
            "1                  62  Alive  \n",
            "2                  75  Alive  \n",
            "3                  84  Alive  \n",
            "4                  50  Alive  \n",
            "...               ...    ...  \n",
            "4019               49  Alive  \n",
            "4020               69  Alive  \n",
            "4021               69  Alive  \n",
            "4022               72  Alive  \n",
            "4023              100  Alive  \n",
            "\n",
            "[4024 rows x 16 columns]>\n",
            "\n",
            " Missing values\n",
            "Age                       0\n",
            "Race                      0\n",
            "Marital Status            0\n",
            "T Stage                   0\n",
            "N Stage                   0\n",
            "6th Stage                 0\n",
            "differentiate             0\n",
            "Grade                     0\n",
            "A Stage                   0\n",
            "Tumor Size                0\n",
            "Estrogen Status           0\n",
            "Progesterone Status       0\n",
            "Regional Node Examined    0\n",
            "Reginol Node Positive     0\n",
            "Survival Months           0\n",
            "Status                    0\n",
            "dtype: int64\n"
          ]
        },
        {
          "output_type": "display_data",
          "data": {
            "text/plain": [
              "<Figure size 640x480 with 1 Axes>"
            ],
            "image/png": "[encoded data removed]"
          },
          "metadata": {}
        }
      ]
    },
    {
      "cell_type": "markdown",
      "source": [
        "4. Data Preprocessing"
      ],
      "metadata": {
        "id": "4SeCYMeCaSe5"
      }
    },
    {
      "cell_type": "code",
      "source": [
        "from sklearn.model_selection import train_test_split\n",
        "from sklearn.preprocessing import StandardScaler, LabelEncoder\n",
        "# df.copy()\n",
        "print(df['Status'].unique())\n",
        "print(df['Status'].isnull().sum())\n",
        "# Convert target variable to binary (1 for \"Alive\", 0 for \"Dead\" assuming it has such values)\n",
        "# df['Status'] = df['Status'].apply(lambda x:1 if x == \"Alive\" else 0)\n",
        "df['Status'] = df['Status'].map({'Alive': 1, 'Dead': 0}).fillna(-1)\n",
        "print(df['Status'].unique())  # Should print [0, 1]\n",
        "\n",
        "#selecct catagorical cloumns and encode them\n",
        "categorical_cols=df.select_dtypes(include=['object']).columns.tolist()\n",
        "if 'Status' in categorical_cols:\n",
        "    categorical_cols.remove('Status')\n",
        "\n",
        "#Apply one-hot encoding  to categorical features\n",
        "df = pd.get_dummies(df, columns = categorical_cols, drop_first=True)\n",
        "\n",
        "\n",
        "#Seperate features and target variables\n",
        "X= df.drop(columns=['Status']).values\n",
        "y= df['Status'].values\n",
        "\n",
        "\n",
        "\n",
        "#split the dataset into training and testing sets\n",
        "X_train, X_test, y_train, y_test = train_test_split(X,y, test_size=0.2, random_state=42)\n",
        "\n",
        "# Normalize the features\n",
        "scaler = StandardScaler() #compute mean and statndard deviation\n",
        "scaler.fit(X_train)\n",
        "sc_X_train = scaler.fit_transform(X_train)\n",
        "sc_X_test = scaler.transform(X_test)\n",
        "# X= scaler.fit_transform(x_train)\n",
        "\n",
        "\n",
        "\n",
        "import random\n",
        "def initialize_params(d):\n",
        "  b= random.random()\n",
        "  w = np.random.random(d)\n",
        "  return b,w\n",
        "\n",
        "b,w= initialize_params(sc_X_train.shape[1])\n",
        "b,w\n",
        "\n",
        "\n",
        "#define logistic function\n",
        "def logistic_function(sc_X_train, w, b):\n",
        "  z= b + np.dot(sc_X_train, w)\n",
        "  return 1/(1+ np.exp(-z))\n",
        "\n",
        "y_pred= logistic_function(sc_X_train, w,b)\n",
        "y_pred\n",
        "\n",
        "\n",
        "# #Implementing logistic regreession from scratch\n",
        "# class LogisticRegression:\n",
        "#   def __init__(self, learning_rate=0.01, reg_strength=0.1, epochs =1000):\n",
        "#     self.learning_rate= learning_rate\n",
        "#     self.reg_strength = reg_strength\n",
        "#     self.epochs = epochs\n",
        "#     self.weights= None\n",
        "#     self.bias=None\n",
        "\n",
        "#     def sigmoid(self,z):\n",
        "#       return 1/(1+ np.exp(-z))\n",
        "\n",
        "#     # compute_loss(self, y_actual, y_pred):\n",
        "#     #   m= len(y_actual)\n",
        "#     #   loss(-1/m) * np.sum(y_actual * np.log(y_pred) + (1-y_actual)* np.log(1-y_pred))\n",
        "#       # reg_term = (self.reg_strength /(2* m))* np.sum(self.weights ** 2)\n",
        "\n",
        "\n",
        "#     #Define cost function\n",
        "#       def cost_function(y_train, y_hat, lambda_, w):\n",
        "#         m = len(y_train)\n",
        "#         cost = - np.sum(np.dot(y_train, np.log(y_hat)) + np.dot(1-y_train, np.log(1- y_hat)))/m + (lambda_ /2 * m * np.sum(w**2))\n",
        "#         return cost\n",
        "\n",
        "\n"
      ],
      "metadata": {
        "colab": {
          "base_uri": "https://localhost:8080/"
        },
        "id": "WD3DYoQCZVQB",
        "outputId": "eb504501-0619-49a8-a44a-92b02fef1a77"
      },
      "execution_count": 6,
      "outputs": [
        {
          "output_type": "stream",
          "name": "stdout",
          "text": [
            "['Alive' 'Dead']\n",
            "0\n",
            "[1 0]\n"
          ]
        },
        {
          "output_type": "execute_result",
          "data": {
            "text/plain": [
              "array([0.33473162, 0.39405982, 0.17656693, ..., 0.95276339, 0.99232975,\n",
              "       0.94892455])"
            ]
          },
          "metadata": {},
          "execution_count": 6
        }
      ]
    },
    {
      "cell_type": "markdown",
      "source": [
        "Building logistic regression from scratch"
      ],
      "metadata": {
        "id": "YpomjHWAaY2r"
      }
    },
    {
      "cell_type": "code",
      "source": [
        "import random\n",
        "def initialize_params(d):\n",
        "  b= random.random()\n",
        "  w = np.random.random(d)\n",
        "  return b,w\n",
        "\n",
        "b,w= initialize_params(sc_X_train.shape[1])\n",
        "b,w\n",
        "\n",
        "\n",
        "#define logistic function\n",
        "def logistic_function(sc_X_train, w, b):\n",
        "  z= b + np.dot(sc_X_train, w)\n",
        "  return 1/(1+ np.exp(-z))\n",
        "\n",
        "y_pred= logistic_function(sc_X_train, w,b)\n",
        "y_pred\n"
      ],
      "metadata": {
        "colab": {
          "base_uri": "https://localhost:8080/"
        },
        "id": "ClElUWTwZbXB",
        "outputId": "982082c4-1f4d-494a-a65c-e2ca9c4bbf40"
      },
      "execution_count": 7,
      "outputs": [
        {
          "output_type": "execute_result",
          "data": {
            "text/plain": [
              "array([0.38660363, 0.2660745 , 0.03549244, ..., 0.64834901, 0.95338576,\n",
              "       0.62485448])"
            ]
          },
          "metadata": {},
          "execution_count": 7
        }
      ]
    },
    {
      "cell_type": "code",
      "source": [
        "def cost_function(Y_train, y_pred, lambda_, w):\n",
        "    m = len(y_train)\n",
        "\n",
        "    # Clip y_pred to avoid log(0) or log(1)\n",
        "    epsilon = 1e-10\n",
        "    y_pred = np.clip(y_pred, epsilon, 1 - epsilon)\n",
        "\n",
        "    cost = - np.sum(np.dot(y_train, np.log(y_pred)) + np.dot(1 - y_train, np.log(1 - y_pred))) / m + (lambda_ / 2 * m * np.sum(w**2))\n",
        "    return cost\n",
        "\n"
      ],
      "metadata": {
        "id": "Y9e05zwCZdRp"
      },
      "execution_count": 8,
      "outputs": []
    },
    {
      "cell_type": "code",
      "source": [
        "# Update parameters\n",
        "def update_parameters(y_train,y_hat,b0,w0,alpha,lambda_):\n",
        "  m = len(y_train)\n",
        "  dw = np.dot((y_hat-y_train),sc_X_train)/m + (lambda_/m)*w0\n",
        "  db = np.sum(y_hat-y_train)/m\n",
        "  w0 = w0-alpha*dw\n",
        "  b0 = b0-alpha*db\n",
        "  return b0,w0"
      ],
      "metadata": {
        "id": "IorwPw7oZfCa"
      },
      "execution_count": 9,
      "outputs": []
    },
    {
      "cell_type": "code",
      "source": [
        "#Gradient Descent\n",
        "n_iter=1000\n",
        "alpha =0.01\n",
        "lambda_=0.1\n",
        "cost_fun =[]\n",
        "for i in range(n_iter):\n",
        "  y_pred= logistic_function(sc_X_train, w, b)\n",
        "  cost_now= cost_function(y_train, y_pred, lambda_,w)\n",
        "  b, w = update_parameters(y_train, y_pred, b, w, alpha, lambda_)\n",
        "  cost_fun.append(cost_now)"
      ],
      "metadata": {
        "id": "mbHC_cPDZgeh"
      },
      "execution_count": 10,
      "outputs": []
    },
    {
      "cell_type": "code",
      "source": [
        "print(len(cost_fun))"
      ],
      "metadata": {
        "colab": {
          "base_uri": "https://localhost:8080/"
        },
        "id": "vClB7PDGZkAD",
        "outputId": "9f33eb6b-6e1d-43d8-d4e9-a5244bbfdca8"
      },
      "execution_count": 11,
      "outputs": [
        {
          "output_type": "stream",
          "name": "stdout",
          "text": [
            "1000\n"
          ]
        }
      ]
    },
    {
      "cell_type": "code",
      "source": [
        "plt.plot(range(n_iter), cost_fun, label=\"Cost function\")\n",
        "plt.xlabel(\"Number of Iterations\")\n",
        "plt.ylabel(\"Cost\")\n",
        "plt.title(\"Cost function over Itearations\")\n",
        "plt.grid()\n",
        "plt.legend()\n",
        "plt.show()"
      ],
      "metadata": {
        "colab": {
          "base_uri": "https://localhost:8080/",
          "height": 472
        },
        "id": "ixcVTTAcZlNZ",
        "outputId": "cceeaded-6bf8-44a8-f810-eabc9ebce677"
      },
      "execution_count": null,
      "outputs": [
        {
          "output_type": "display_data",
          "data": {
            "text/plain": [
              "<Figure size 640x480 with 1 Axes>"
            ],
            "image/png": "[encoded data removed]"
          },
          "metadata": {}
        }
      ]
    },
    {
      "cell_type": "markdown",
      "source": [
        "6. Verify using Built-in LogisticRegression from Scikit-Learn"
      ],
      "metadata": {
        "id": "YD5_bLpqaftC"
      }
    },
    {
      "cell_type": "code",
      "source": [
        "# Train logistic regression using sklearn\n",
        "sklearn_log_reg = LogisticRegression()\n",
        "sklearn_log_reg.fit(sc_X_train, y_train)\n",
        "\n",
        "# Predictions\n",
        "y_pred_sklearn = sklearn_log_reg.predict(sc_X_test)\n",
        "# Evaluate sklearn logistic regression\n",
        "print(\"\\nScikit-Learn Logistic Regression Model Performance:\")\n",
        "print(classification_report(y_test, y_pred_sklearn))\n",
        "print(\"Confusion Matrix:\")\n",
        "print(confusion_matrix(y_test, y_pred_sklearn))\n"
      ],
      "metadata": {
        "colab": {
          "base_uri": "https://localhost:8080/"
        },
        "id": "TqI6Czl6Zuih",
        "outputId": "046921b9-c591-4121-f01a-752bd4defd02"
      },
      "execution_count": null,
      "outputs": [
        {
          "output_type": "stream",
          "name": "stdout",
          "text": [
            "\n",
            "Scikit-Learn Logistic Regression Model Performance:\n",
            "              precision    recall  f1-score   support\n",
            "\n",
            "           0       0.81      0.42      0.56       120\n",
            "           1       0.91      0.98      0.94       685\n",
            "\n",
            "    accuracy                           0.90       805\n",
            "   macro avg       0.86      0.70      0.75       805\n",
            "weighted avg       0.89      0.90      0.89       805\n",
            "\n",
            "Confusion Matrix:\n",
            "[[ 51  69]\n",
            " [ 12 673]]\n"
          ]
        }
      ]
    },
    {
      "cell_type": "markdown",
      "source": [
        "7. Cross-verify using random forest classifier"
      ],
      "metadata": {
        "id": "K2gjBf1Laqlx"
      }
    },
    {
      "cell_type": "code",
      "source": [
        "# Train Random Forest Classifier\n",
        "rf_clf = RandomForestClassifier(random_state=42)\n",
        "rf_clf.fit(X_train, y_train)\n",
        "\n",
        "# Predictions\n",
        "y_pred_rf = rf_clf.predict(X_test)\n",
        "\n",
        "# Evaluate Random Forest Model\n",
        "print(\"\\nRandom Forest Model Performance:\")\n",
        "print(classification_report(y_test, y_pred_rf))\n",
        "print(\"Confusion Matrix:\")\n",
        "print(confusion_matrix(y_test, y_pred_rf))\n"
      ],
      "metadata": {
        "colab": {
          "base_uri": "https://localhost:8080/"
        },
        "id": "oA4yT_UvZw-7",
        "outputId": "54bc83d5-3c61-4f56-d05e-d313e08b8b1c"
      },
      "execution_count": null,
      "outputs": [
        {
          "output_type": "stream",
          "name": "stdout",
          "text": [
            "\n",
            "Random Forest Model Performance:\n",
            "              precision    recall  f1-score   support\n",
            "\n",
            "           0       0.85      0.50      0.63       120\n",
            "           1       0.92      0.98      0.95       685\n",
            "\n",
            "    accuracy                           0.91       805\n",
            "   macro avg       0.88      0.74      0.79       805\n",
            "weighted avg       0.91      0.91      0.90       805\n",
            "\n",
            "Confusion Matrix:\n",
            "[[ 60  60]\n",
            " [ 11 674]]\n"
          ]
        }
      ]
    },
    {
      "cell_type": "code",
      "source": [
        "from sklearn.metrics import accuracy_score, roc_curve, auc\n",
        "y_hat_pred = logistic_function(sc_X_test, w,b)\n",
        "y_predict= (y_hat_pred>= 0.5).astype(int)\n",
        "accuracy_score(y_predict, y_test)"
      ],
      "metadata": {
        "colab": {
          "base_uri": "https://localhost:8080/"
        },
        "id": "GT5Si-QRZyg6",
        "outputId": "48dc49c6-363b-4ada-9723-7622b6499e4c"
      },
      "execution_count": null,
      "outputs": [
        {
          "output_type": "execute_result",
          "data": {
            "text/plain": [
              "0.8708074534161491"
            ]
          },
          "metadata": {},
          "execution_count": 36
        }
      ]
    },
    {
      "cell_type": "code",
      "source": [
        "fpr, tpr,_= roc_curve(y_test, y_hat_pred)\n",
        "roc_auc = auc(fpr, tpr)\n",
        "plt.plot(fpr, tpr, label=f'ROC (AUC{roc_auc:.2f})')\n",
        "plt.plot([0,1], [0,1], color='r', linestyle='--')\n",
        "plt.legend()\n",
        "plt.grid()\n",
        "plt.show"
      ],
      "metadata": {
        "colab": {
          "base_uri": "https://localhost:8080/",
          "height": 599
        },
        "id": "G6ubf1xuZz4L",
        "outputId": "47aa33ab-9cc5-4616-884f-2d87d88dd48a"
      },
      "execution_count": null,
      "outputs": [
        {
          "output_type": "execute_result",
          "data": {
            "text/plain": [
              "<function matplotlib.pyplot.show(close=None, block=None)>"
            ],
            "text/html": [
              "<div style=\"max-width:800px; border: 1px solid var(--colab-border-color);\"><style>\n",
              "      pre.function-repr-contents {\n",
              "        overflow-x: auto;\n",
              "        padding: 8px 12px;\n",
              "        max-height: 500px;\n",
              "      }\n",
              "\n",
              "      pre.function-repr-contents.function-repr-contents-collapsed {\n",
              "        cursor: pointer;\n",
              "        max-height: 100px;\n",
              "      }\n",
              "    </style>\n",
              "    <pre style=\"white-space: initial; background:\n",
              "         var(--colab-secondary-surface-color); padding: 8px 12px;\n",
              "         border-bottom: 1px solid var(--colab-border-color);\"><b>matplotlib.pyplot.show</b><br/>def show(*args, **kwargs) -&gt; None</pre><pre class=\"function-repr-contents function-repr-contents-collapsed\" style=\"\"><a class=\"filepath\" style=\"display:none\" href=\"#\">/usr/local/lib/python3.11/dist-packages/matplotlib/pyplot.py</a>Display all open figures.\n",
              "\n",
              "Parameters\n",
              "----------\n",
              "block : bool, optional\n",
              "    Whether to wait for all figures to be closed before returning.\n",
              "\n",
              "    If `True` block and run the GUI main loop until all figure windows\n",
              "    are closed.\n",
              "\n",
              "    If `False` ensure that all figure windows are displayed and return\n",
              "    immediately.  In this case, you are responsible for ensuring\n",
              "    that the event loop is running to have responsive figures.\n",
              "\n",
              "    Defaults to True in non-interactive mode and to False in interactive\n",
              "    mode (see `.pyplot.isinteractive`).\n",
              "\n",
              "See Also\n",
              "--------\n",
              "ion : Enable interactive mode, which shows / updates the figure after\n",
              "      every plotting command, so that calling ``show()`` is not necessary.\n",
              "ioff : Disable interactive mode.\n",
              "savefig : Save the figure to an image file instead of showing it on screen.\n",
              "\n",
              "Notes\n",
              "-----\n",
              "**Saving figures to file and showing a window at the same time**\n",
              "\n",
              "If you want an image file as well as a user interface window, use\n",
              "`.pyplot.savefig` before `.pyplot.show`. At the end of (a blocking)\n",
              "``show()`` the figure is closed and thus unregistered from pyplot. Calling\n",
              "`.pyplot.savefig` afterwards would save a new and thus empty figure. This\n",
              "limitation of command order does not apply if the show is non-blocking or\n",
              "if you keep a reference to the figure and use `.Figure.savefig`.\n",
              "\n",
              "**Auto-show in jupyter notebooks**\n",
              "\n",
              "The jupyter backends (activated via ``%matplotlib inline``,\n",
              "``%matplotlib notebook``, or ``%matplotlib widget``), call ``show()`` at\n",
              "the end of every cell by default. Thus, you usually don&#x27;t have to call it\n",
              "explicitly there.</pre>\n",
              "      <script>\n",
              "      if (google.colab.kernel.accessAllowed && google.colab.files && google.colab.files.view) {\n",
              "        for (const element of document.querySelectorAll('.filepath')) {\n",
              "          element.style.display = 'block'\n",
              "          element.onclick = (event) => {\n",
              "            event.preventDefault();\n",
              "            event.stopPropagation();\n",
              "            google.colab.files.view(element.textContent, 569);\n",
              "          };\n",
              "        }\n",
              "      }\n",
              "      for (const element of document.querySelectorAll('.function-repr-contents')) {\n",
              "        element.onclick = (event) => {\n",
              "          event.preventDefault();\n",
              "          event.stopPropagation();\n",
              "          element.classList.toggle('function-repr-contents-collapsed');\n",
              "        };\n",
              "      }\n",
              "      </script>\n",
              "      </div>"
            ]
          },
          "metadata": {},
          "execution_count": 37
        },
        {
          "output_type": "display_data",
          "data": {
            "text/plain": [
              "<Figure size 640x480 with 1 Axes>"
            ],
            "image/png": "[encoded data removed]"
          },
          "metadata": {}
        }
      ]
    },
    {
      "cell_type": "code",
      "source": [
        "from sklearn.linear_model import LogisticRegressionCV\n",
        "log = LogisticRegressionCV()\n",
        "log.fit(sc_X_train, y_train)\n"
      ],
      "metadata": {
        "colab": {
          "base_uri": "https://localhost:8080/",
          "height": 80
        },
        "id": "IPWz_TxhZ1eD",
        "outputId": "47e9bb65-0def-4517-d007-4588517bda2d"
      },
      "execution_count": null,
      "outputs": [
        {
          "output_type": "execute_result",
          "data": {
            "text/plain": [
              "LogisticRegressionCV()"
            ],
            "text/html": [
              "<style>#sk-container-id-2 {\n",
              "  /* Definition of color scheme common for light and dark mode */\n",
              "  --sklearn-color-text: #000;\n",
              "  --sklearn-color-text-muted: #666;\n",
              "  --sklearn-color-line: gray;\n",
              "  /* Definition of color scheme for unfitted estimators */\n",
              "  --sklearn-color-unfitted-level-0: #fff5e6;\n",
              "  --sklearn-color-unfitted-level-1: #f6e4d2;\n",
              "  --sklearn-color-unfitted-level-2: #ffe0b3;\n",
              "  --sklearn-color-unfitted-level-3: chocolate;\n",
              "  /* Definition of color scheme for fitted estimators */\n",
              "  --sklearn-color-fitted-level-0: #f0f8ff;\n",
              "  --sklearn-color-fitted-level-1: #d4ebff;\n",
              "  --sklearn-color-fitted-level-2: #b3dbfd;\n",
              "  --sklearn-color-fitted-level-3: cornflowerblue;\n",
              "\n",
              "  /* Specific color for light theme */\n",
              "  --sklearn-color-text-on-default-background: var(--sg-text-color, var(--theme-code-foreground, var(--jp-content-font-color1, black)));\n",
              "  --sklearn-color-background: var(--sg-background-color, var(--theme-background, var(--jp-layout-color0, white)));\n",
              "  --sklearn-color-border-box: var(--sg-text-color, var(--theme-code-foreground, var(--jp-content-font-color1, black)));\n",
              "  --sklearn-color-icon: #696969;\n",
              "\n",
              "  @media (prefers-color-scheme: dark) {\n",
              "    /* Redefinition of color scheme for dark theme */\n",
              "    --sklearn-color-text-on-default-background: var(--sg-text-color, var(--theme-code-foreground, var(--jp-content-font-color1, white)));\n",
              "    --sklearn-color-background: var(--sg-background-color, var(--theme-background, var(--jp-layout-color0, #111)));\n",
              "    --sklearn-color-border-box: var(--sg-text-color, var(--theme-code-foreground, var(--jp-content-font-color1, white)));\n",
              "    --sklearn-color-icon: #878787;\n",
              "  }\n",
              "}\n",
              "\n",
              "#sk-container-id-2 {\n",
              "  color: var(--sklearn-color-text);\n",
              "}\n",
              "\n",
              "#sk-container-id-2 pre {\n",
              "  padding: 0;\n",
              "}\n",
              "\n",
              "#sk-container-id-2 input.sk-hidden--visually {\n",
              "  border: 0;\n",
              "  clip: rect(1px 1px 1px 1px);\n",
              "  clip: rect(1px, 1px, 1px, 1px);\n",
              "  height: 1px;\n",
              "  margin: -1px;\n",
              "  overflow: hidden;\n",
              "  padding: 0;\n",
              "  position: absolute;\n",
              "  width: 1px;\n",
              "}\n",
              "\n",
              "#sk-container-id-2 div.sk-dashed-wrapped {\n",
              "  border: 1px dashed var(--sklearn-color-line);\n",
              "  margin: 0 0.4em 0.5em 0.4em;\n",
              "  box-sizing: border-box;\n",
              "  padding-bottom: 0.4em;\n",
              "  background-color: var(--sklearn-color-background);\n",
              "}\n",
              "\n",
              "#sk-container-id-2 div.sk-container {\n",
              "  /* jupyter's `normalize.less` sets `[hidden] { display: none; }`\n",
              "     but bootstrap.min.css set `[hidden] { display: none !important; }`\n",
              "     so we also need the `!important` here to be able to override the\n",
              "     default hidden behavior on the sphinx rendered scikit-learn.org.\n",
              "     See: https://github.com/scikit-learn/scikit-learn/issues/21755 */\n",
              "  display: inline-block !important;\n",
              "  position: relative;\n",
              "}\n",
              "\n",
              "#sk-container-id-2 div.sk-text-repr-fallback {\n",
              "  display: none;\n",
              "}\n",
              "\n",
              "div.sk-parallel-item,\n",
              "div.sk-serial,\n",
              "div.sk-item {\n",
              "  /* draw centered vertical line to link estimators */\n",
              "  background-image: linear-gradient(var(--sklearn-color-text-on-default-background), var(--sklearn-color-text-on-default-background));\n",
              "  background-size: 2px 100%;\n",
              "  background-repeat: no-repeat;\n",
              "  background-position: center center;\n",
              "}\n",
              "\n",
              "/* Parallel-specific style estimator block */\n",
              "\n",
              "#sk-container-id-2 div.sk-parallel-item::after {\n",
              "  content: \"\";\n",
              "  width: 100%;\n",
              "  border-bottom: 2px solid var(--sklearn-color-text-on-default-background);\n",
              "  flex-grow: 1;\n",
              "}\n",
              "\n",
              "#sk-container-id-2 div.sk-parallel {\n",
              "  display: flex;\n",
              "  align-items: stretch;\n",
              "  justify-content: center;\n",
              "  background-color: var(--sklearn-color-background);\n",
              "  position: relative;\n",
              "}\n",
              "\n",
              "#sk-container-id-2 div.sk-parallel-item {\n",
              "  display: flex;\n",
              "  flex-direction: column;\n",
              "}\n",
              "\n",
              "#sk-container-id-2 div.sk-parallel-item:first-child::after {\n",
              "  align-self: flex-end;\n",
              "  width: 50%;\n",
              "}\n",
              "\n",
              "#sk-container-id-2 div.sk-parallel-item:last-child::after {\n",
              "  align-self: flex-start;\n",
              "  width: 50%;\n",
              "}\n",
              "\n",
              "#sk-container-id-2 div.sk-parallel-item:only-child::after {\n",
              "  width: 0;\n",
              "}\n",
              "\n",
              "/* Serial-specific style estimator block */\n",
              "\n",
              "#sk-container-id-2 div.sk-serial {\n",
              "  display: flex;\n",
              "  flex-direction: column;\n",
              "  align-items: center;\n",
              "  background-color: var(--sklearn-color-background);\n",
              "  padding-right: 1em;\n",
              "  padding-left: 1em;\n",
              "}\n",
              "\n",
              "\n",
              "/* Toggleable style: style used for estimator/Pipeline/ColumnTransformer box that is\n",
              "clickable and can be expanded/collapsed.\n",
              "- Pipeline and ColumnTransformer use this feature and define the default style\n",
              "- Estimators will overwrite some part of the style using the `sk-estimator` class\n",
              "*/\n",
              "\n",
              "/* Pipeline and ColumnTransformer style (default) */\n",
              "\n",
              "#sk-container-id-2 div.sk-toggleable {\n",
              "  /* Default theme specific background. It is overwritten whether we have a\n",
              "  specific estimator or a Pipeline/ColumnTransformer */\n",
              "  background-color: var(--sklearn-color-background);\n",
              "}\n",
              "\n",
              "/* Toggleable label */\n",
              "#sk-container-id-2 label.sk-toggleable__label {\n",
              "  cursor: pointer;\n",
              "  display: flex;\n",
              "  width: 100%;\n",
              "  margin-bottom: 0;\n",
              "  padding: 0.5em;\n",
              "  box-sizing: border-box;\n",
              "  text-align: center;\n",
              "  align-items: start;\n",
              "  justify-content: space-between;\n",
              "  gap: 0.5em;\n",
              "}\n",
              "\n",
              "#sk-container-id-2 label.sk-toggleable__label .caption {\n",
              "  font-size: 0.6rem;\n",
              "  font-weight: lighter;\n",
              "  color: var(--sklearn-color-text-muted);\n",
              "}\n",
              "\n",
              "#sk-container-id-2 label.sk-toggleable__label-arrow:before {\n",
              "  /* Arrow on the left of the label */\n",
              "  content: \"▸\";\n",
              "  float: left;\n",
              "  margin-right: 0.25em;\n",
              "  color: var(--sklearn-color-icon);\n",
              "}\n",
              "\n",
              "#sk-container-id-2 label.sk-toggleable__label-arrow:hover:before {\n",
              "  color: var(--sklearn-color-text);\n",
              "}\n",
              "\n",
              "/* Toggleable content - dropdown */\n",
              "\n",
              "#sk-container-id-2 div.sk-toggleable__content {\n",
              "  max-height: 0;\n",
              "  max-width: 0;\n",
              "  overflow: hidden;\n",
              "  text-align: left;\n",
              "  /* unfitted */\n",
              "  background-color: var(--sklearn-color-unfitted-level-0);\n",
              "}\n",
              "\n",
              "#sk-container-id-2 div.sk-toggleable__content.fitted {\n",
              "  /* fitted */\n",
              "  background-color: var(--sklearn-color-fitted-level-0);\n",
              "}\n",
              "\n",
              "#sk-container-id-2 div.sk-toggleable__content pre {\n",
              "  margin: 0.2em;\n",
              "  border-radius: 0.25em;\n",
              "  color: var(--sklearn-color-text);\n",
              "  /* unfitted */\n",
              "  background-color: var(--sklearn-color-unfitted-level-0);\n",
              "}\n",
              "\n",
              "#sk-container-id-2 div.sk-toggleable__content.fitted pre {\n",
              "  /* unfitted */\n",
              "  background-color: var(--sklearn-color-fitted-level-0);\n",
              "}\n",
              "\n",
              "#sk-container-id-2 input.sk-toggleable__control:checked~div.sk-toggleable__content {\n",
              "  /* Expand drop-down */\n",
              "  max-height: 200px;\n",
              "  max-width: 100%;\n",
              "  overflow: auto;\n",
              "}\n",
              "\n",
              "#sk-container-id-2 input.sk-toggleable__control:checked~label.sk-toggleable__label-arrow:before {\n",
              "  content: \"▾\";\n",
              "}\n",
              "\n",
              "/* Pipeline/ColumnTransformer-specific style */\n",
              "\n",
              "#sk-container-id-2 div.sk-label input.sk-toggleable__control:checked~label.sk-toggleable__label {\n",
              "  color: var(--sklearn-color-text);\n",
              "  background-color: var(--sklearn-color-unfitted-level-2);\n",
              "}\n",
              "\n",
              "#sk-container-id-2 div.sk-label.fitted input.sk-toggleable__control:checked~label.sk-toggleable__label {\n",
              "  background-color: var(--sklearn-color-fitted-level-2);\n",
              "}\n",
              "\n",
              "/* Estimator-specific style */\n",
              "\n",
              "/* Colorize estimator box */\n",
              "#sk-container-id-2 div.sk-estimator input.sk-toggleable__control:checked~label.sk-toggleable__label {\n",
              "  /* unfitted */\n",
              "  background-color: var(--sklearn-color-unfitted-level-2);\n",
              "}\n",
              "\n",
              "#sk-container-id-2 div.sk-estimator.fitted input.sk-toggleable__control:checked~label.sk-toggleable__label {\n",
              "  /* fitted */\n",
              "  background-color: var(--sklearn-color-fitted-level-2);\n",
              "}\n",
              "\n",
              "#sk-container-id-2 div.sk-label label.sk-toggleable__label,\n",
              "#sk-container-id-2 div.sk-label label {\n",
              "  /* The background is the default theme color */\n",
              "  color: var(--sklearn-color-text-on-default-background);\n",
              "}\n",
              "\n",
              "/* On hover, darken the color of the background */\n",
              "#sk-container-id-2 div.sk-label:hover label.sk-toggleable__label {\n",
              "  color: var(--sklearn-color-text);\n",
              "  background-color: var(--sklearn-color-unfitted-level-2);\n",
              "}\n",
              "\n",
              "/* Label box, darken color on hover, fitted */\n",
              "#sk-container-id-2 div.sk-label.fitted:hover label.sk-toggleable__label.fitted {\n",
              "  color: var(--sklearn-color-text);\n",
              "  background-color: var(--sklearn-color-fitted-level-2);\n",
              "}\n",
              "\n",
              "/* Estimator label */\n",
              "\n",
              "#sk-container-id-2 div.sk-label label {\n",
              "  font-family: monospace;\n",
              "  font-weight: bold;\n",
              "  display: inline-block;\n",
              "  line-height: 1.2em;\n",
              "}\n",
              "\n",
              "#sk-container-id-2 div.sk-label-container {\n",
              "  text-align: center;\n",
              "}\n",
              "\n",
              "/* Estimator-specific */\n",
              "#sk-container-id-2 div.sk-estimator {\n",
              "  font-family: monospace;\n",
              "  border: 1px dotted var(--sklearn-color-border-box);\n",
              "  border-radius: 0.25em;\n",
              "  box-sizing: border-box;\n",
              "  margin-bottom: 0.5em;\n",
              "  /* unfitted */\n",
              "  background-color: var(--sklearn-color-unfitted-level-0);\n",
              "}\n",
              "\n",
              "#sk-container-id-2 div.sk-estimator.fitted {\n",
              "  /* fitted */\n",
              "  background-color: var(--sklearn-color-fitted-level-0);\n",
              "}\n",
              "\n",
              "/* on hover */\n",
              "#sk-container-id-2 div.sk-estimator:hover {\n",
              "  /* unfitted */\n",
              "  background-color: var(--sklearn-color-unfitted-level-2);\n",
              "}\n",
              "\n",
              "#sk-container-id-2 div.sk-estimator.fitted:hover {\n",
              "  /* fitted */\n",
              "  background-color: var(--sklearn-color-fitted-level-2);\n",
              "}\n",
              "\n",
              "/* Specification for estimator info (e.g. \"i\" and \"?\") */\n",
              "\n",
              "/* Common style for \"i\" and \"?\" */\n",
              "\n",
              ".sk-estimator-doc-link,\n",
              "a:link.sk-estimator-doc-link,\n",
              "a:visited.sk-estimator-doc-link {\n",
              "  float: right;\n",
              "  font-size: smaller;\n",
              "  line-height: 1em;\n",
              "  font-family: monospace;\n",
              "  background-color: var(--sklearn-color-background);\n",
              "  border-radius: 1em;\n",
              "  height: 1em;\n",
              "  width: 1em;\n",
              "  text-decoration: none !important;\n",
              "  margin-left: 0.5em;\n",
              "  text-align: center;\n",
              "  /* unfitted */\n",
              "  border: var(--sklearn-color-unfitted-level-1) 1pt solid;\n",
              "  color: var(--sklearn-color-unfitted-level-1);\n",
              "}\n",
              "\n",
              ".sk-estimator-doc-link.fitted,\n",
              "a:link.sk-estimator-doc-link.fitted,\n",
              "a:visited.sk-estimator-doc-link.fitted {\n",
              "  /* fitted */\n",
              "  border: var(--sklearn-color-fitted-level-1) 1pt solid;\n",
              "  color: var(--sklearn-color-fitted-level-1);\n",
              "}\n",
              "\n",
              "/* On hover */\n",
              "div.sk-estimator:hover .sk-estimator-doc-link:hover,\n",
              ".sk-estimator-doc-link:hover,\n",
              "div.sk-label-container:hover .sk-estimator-doc-link:hover,\n",
              ".sk-estimator-doc-link:hover {\n",
              "  /* unfitted */\n",
              "  background-color: var(--sklearn-color-unfitted-level-3);\n",
              "  color: var(--sklearn-color-background);\n",
              "  text-decoration: none;\n",
              "}\n",
              "\n",
              "div.sk-estimator.fitted:hover .sk-estimator-doc-link.fitted:hover,\n",
              ".sk-estimator-doc-link.fitted:hover,\n",
              "div.sk-label-container:hover .sk-estimator-doc-link.fitted:hover,\n",
              ".sk-estimator-doc-link.fitted:hover {\n",
              "  /* fitted */\n",
              "  background-color: var(--sklearn-color-fitted-level-3);\n",
              "  color: var(--sklearn-color-background);\n",
              "  text-decoration: none;\n",
              "}\n",
              "\n",
              "/* Span, style for the box shown on hovering the info icon */\n",
              ".sk-estimator-doc-link span {\n",
              "  display: none;\n",
              "  z-index: 9999;\n",
              "  position: relative;\n",
              "  font-weight: normal;\n",
              "  right: .2ex;\n",
              "  padding: .5ex;\n",
              "  margin: .5ex;\n",
              "  width: min-content;\n",
              "  min-width: 20ex;\n",
              "  max-width: 50ex;\n",
              "  color: var(--sklearn-color-text);\n",
              "  box-shadow: 2pt 2pt 4pt #999;\n",
              "  /* unfitted */\n",
              "  background: var(--sklearn-color-unfitted-level-0);\n",
              "  border: .5pt solid var(--sklearn-color-unfitted-level-3);\n",
              "}\n",
              "\n",
              ".sk-estimator-doc-link.fitted span {\n",
              "  /* fitted */\n",
              "  background: var(--sklearn-color-fitted-level-0);\n",
              "  border: var(--sklearn-color-fitted-level-3);\n",
              "}\n",
              "\n",
              ".sk-estimator-doc-link:hover span {\n",
              "  display: block;\n",
              "}\n",
              "\n",
              "/* \"?\"-specific style due to the `<a>` HTML tag */\n",
              "\n",
              "#sk-container-id-2 a.estimator_doc_link {\n",
              "  float: right;\n",
              "  font-size: 1rem;\n",
              "  line-height: 1em;\n",
              "  font-family: monospace;\n",
              "  background-color: var(--sklearn-color-background);\n",
              "  border-radius: 1rem;\n",
              "  height: 1rem;\n",
              "  width: 1rem;\n",
              "  text-decoration: none;\n",
              "  /* unfitted */\n",
              "  color: var(--sklearn-color-unfitted-level-1);\n",
              "  border: var(--sklearn-color-unfitted-level-1) 1pt solid;\n",
              "}\n",
              "\n",
              "#sk-container-id-2 a.estimator_doc_link.fitted {\n",
              "  /* fitted */\n",
              "  border: var(--sklearn-color-fitted-level-1) 1pt solid;\n",
              "  color: var(--sklearn-color-fitted-level-1);\n",
              "}\n",
              "\n",
              "/* On hover */\n",
              "#sk-container-id-2 a.estimator_doc_link:hover {\n",
              "  /* unfitted */\n",
              "  background-color: var(--sklearn-color-unfitted-level-3);\n",
              "  color: var(--sklearn-color-background);\n",
              "  text-decoration: none;\n",
              "}\n",
              "\n",
              "#sk-container-id-2 a.estimator_doc_link.fitted:hover {\n",
              "  /* fitted */\n",
              "  background-color: var(--sklearn-color-fitted-level-3);\n",
              "}\n",
              "</style><div id=\"sk-container-id-2\" class=\"sk-top-container\"><div class=\"sk-text-repr-fallback\"><pre>LogisticRegressionCV()</pre><b>In a Jupyter environment, please rerun this cell to show the HTML representation or trust the notebook. <br />On GitHub, the HTML representation is unable to render, please try loading this page with nbviewer.org.</b></div><div class=\"sk-container\" hidden><div class=\"sk-item\"><div class=\"sk-estimator fitted sk-toggleable\"><input class=\"sk-toggleable__control sk-hidden--visually\" id=\"sk-estimator-id-2\" type=\"checkbox\" checked><label for=\"sk-estimator-id-2\" class=\"sk-toggleable__label fitted sk-toggleable__label-arrow\"><div><div>LogisticRegressionCV</div></div><div><a class=\"sk-estimator-doc-link fitted\" rel=\"noreferrer\" target=\"_blank\" href=\"https://scikit-learn.org/1.6/modules/generated/sklearn.linear_model.LogisticRegressionCV.html\">?<span>Documentation for LogisticRegressionCV</span></a><span class=\"sk-estimator-doc-link fitted\">i<span>Fitted</span></span></div></label><div class=\"sk-toggleable__content fitted\"><pre>LogisticRegressionCV()</pre></div> </div></div></div></div>"
            ]
          },
          "metadata": {},
          "execution_count": 38
        }
      ]
    },
    {
      "cell_type": "code",
      "source": [
        "\n",
        "plt.figure(figsize=(10,6))\n",
        "feature_names = df.drop(columns=['Status']).columns\n",
        "coefs = pd.Series(index= feature_names, data=log.coef_[0])\n",
        "coefs= coefs.sort_values()\n",
        "sns.barplot(x=coefs.index,y=coefs.values,hue=coefs.index,palette='coolwarm')\n",
        "plt.xticks(rotation=90)\n",
        "plt.grid()\n",
        "plt.show()"
      ],
      "metadata": {
        "colab": {
          "base_uri": "https://localhost:8080/",
          "height": 763
        },
        "id": "GGvatoqKZ26a",
        "outputId": "89695b00-764f-4a32-cfdf-149563ef004c"
      },
      "execution_count": null,
      "outputs": [
        {
          "output_type": "display_data",
          "data": {
            "text/plain": [
              "<Figure size 1000x600 with 1 Axes>"
            ],
            "image/png": "[encoded data removed]"
          },
          "metadata": {}
        }
      ]
    },
    {
      "cell_type": "code",
      "source": [
        "# Hyperparameter tuning using GridSearchCV\n",
        "param_grid = {'n_estimators': [50, 100, 150], 'max_depth': [5, 10, 15]}\n",
        "grid_search = GridSearchCV(rf_clf, param_grid, cv=5, scoring='accuracy')\n",
        "grid_search.fit(X_train, y_train)\n",
        "\n",
        "# Best Parameters\n",
        "print(\"\\nBest Parameters for Random Forest:\", grid_search.best_params_)\n",
        "\n",
        "# Predictions with the optimized model\n",
        "y_pred_best_rf = grid_search.best_estimator_.predict(X_test)\n",
        "\n",
        "# Evaluating Optimized Random Forest Model\n",
        "print(\"\\nOptimized Random Forest Model Performance:\")\n",
        "print(classification_report(y_test, y_pred_best_rf))"
      ],
      "metadata": {
        "colab": {
          "base_uri": "https://localhost:8080/"
        },
        "id": "4Cg5-lgBZ5HB",
        "outputId": "6a822b47-385c-425f-fe1a-425068bd447b"
      },
      "execution_count": null,
      "outputs": [
        {
          "output_type": "stream",
          "name": "stdout",
          "text": [
            "\n",
            "Best Parameters for Random Forest: {'max_depth': 10, 'n_estimators': 100}\n",
            "\n",
            "Optimized Random Forest Model Performance:\n",
            "              precision    recall  f1-score   support\n",
            "\n",
            "           0       0.90      0.50      0.64       120\n",
            "           1       0.92      0.99      0.95       685\n",
            "\n",
            "    accuracy                           0.92       805\n",
            "   macro avg       0.91      0.74      0.80       805\n",
            "weighted avg       0.92      0.92      0.91       805\n",
            "\n"
          ]
        }
      ]
    }
  ]
}